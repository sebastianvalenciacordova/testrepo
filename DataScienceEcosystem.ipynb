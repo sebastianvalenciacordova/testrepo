{
 "cells": [
  {
   "cell_type": "markdown",
   "id": "f1bab7ae-1bdc-4b9f-b388-cadac525eecd",
   "metadata": {},
   "source": [
    "# Data Science Tools and Ecosystem"
   ]
  },
  {
   "cell_type": "markdown",
   "id": "0350131f-4456-4f70-98dd-65ff8f74b845",
   "metadata": {},
   "source": [
    "In this notebook, Data Science Tools and Ecosystem are summarized."
   ]
  },
  {
   "cell_type": "markdown",
   "id": "2fb44b85-7a59-4f58-8767-d9d2fe015fc1",
   "metadata": {},
   "source": [
    "Some of the popular Languages that Data Scientists use are:\n",
    "1. Python\n",
    "2. R\n",
    "3. SQL"
   ]
  },
  {
   "cell_type": "markdown",
   "id": "40294394-7a87-4087-a45f-b98d4d1150b9",
   "metadata": {},
   "source": [
    "Some of the commonly use libraries used by Data Scientists include:\n",
    "1. Pandas\n",
    "2. NumPy\n",
    "2. TensorFlow"
   ]
  },
  {
   "cell_type": "markdown",
   "id": "02f77176-9ae1-4824-85b6-88e55805fbbe",
   "metadata": {},
   "source": [
    "|Data Science Tools|\n",
    "--------------------\n",
    "|JupyterLab|\n",
    "|RStudio|\n",
    "|GitHub|"
   ]
  },
  {
   "cell_type": "markdown",
   "id": "2862b8e5-c5d4-469e-8c33-92b073cd9242",
   "metadata": {},
   "source": [
    "### Below are a few examples of evaluating arithmetic expressions in Python"
   ]
  },
  {
   "cell_type": "markdown",
   "id": "9cc8e763-155c-471a-a3d0-04e95ded497d",
   "metadata": {},
   "source": [
    "This is a simple arithmetic expression to multiply then add integers"
   ]
  },
  {
   "cell_type": "code",
   "execution_count": 1,
   "id": "e0d1e041-f3b9-4003-b7ec-9e88c645439b",
   "metadata": {},
   "outputs": [
    {
     "data": {
      "text/plain": [
       "17"
      ]
     },
     "execution_count": 1,
     "metadata": {},
     "output_type": "execute_result"
    }
   ],
   "source": [
    "#this is a simple arithmetic expression to multiply then add integers\n",
    "(3*4)+5"
   ]
  },
  {
   "cell_type": "code",
   "execution_count": 9,
   "id": "05e5c976-b038-4f34-b34c-aeafd511b229",
   "metadata": {},
   "outputs": [
    {
     "name": "stdout",
     "output_type": "stream",
     "text": [
      "3.3333333333333335\n"
     ]
    }
   ],
   "source": [
    "minperhour = 60\n",
    "x = 200\n",
    "print(x/minperhour)\n"
   ]
  },
  {
   "cell_type": "markdown",
   "id": "77d5692d-3cd4-4408-b018-b5de0e8d6386",
   "metadata": {
    "tags": []
   },
   "source": [
    "**Objectives**"
   ]
  },
  {
   "cell_type": "markdown",
   "id": "2b6b701c-c815-4b02-8c80-25b67c376d91",
   "metadata": {
    "tags": []
   },
   "source": [
    "* List popular languages used by Data Scientists\n",
    "* List commonly used libraries used by Data Scientists\n",
    "* List popular Data Science Tools"
   ]
  },
  {
   "cell_type": "markdown",
   "id": "e376ca87-2b55-4c58-8653-6e65574e3c57",
   "metadata": {},
   "source": [
    "## Author: \n",
    "Sebastian Valencia"
   ]
  },
  {
   "cell_type": "code",
   "execution_count": null,
   "id": "10403b33-62a7-4df1-806e-2b8fbd818ce2",
   "metadata": {},
   "outputs": [],
   "source": []
  }
 ],
 "metadata": {
  "kernelspec": {
   "display_name": "Python 3 (ipykernel)",
   "language": "python",
   "name": "python3"
  },
  "language_info": {
   "codemirror_mode": {
    "name": "ipython",
    "version": 3
   },
   "file_extension": ".py",
   "mimetype": "text/x-python",
   "name": "python",
   "nbconvert_exporter": "python",
   "pygments_lexer": "ipython3",
   "version": "3.10.9"
  }
 },
 "nbformat": 4,
 "nbformat_minor": 5
}
